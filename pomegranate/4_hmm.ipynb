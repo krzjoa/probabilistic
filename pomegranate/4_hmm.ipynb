{
 "cells": [
  {
   "cell_type": "code",
   "execution_count": 5,
   "id": "2a1ba363",
   "metadata": {},
   "outputs": [],
   "source": [
    "%matplotlib inline\n",
    "import matplotlib.pyplot as plt\n",
    "import seaborn; seaborn.set_style('whitegrid')\n",
    "import numpy as np\n",
    "\n",
    "from pomegranate import *\n",
    "\n",
    "np.random.seed(0)\n",
    "np.set_printoptions(suppress=True)"
   ]
  },
  {
   "cell_type": "code",
   "execution_count": 4,
   "id": "9ee61eb6",
   "metadata": {},
   "outputs": [],
   "source": [
    "#!pip install -U numpy"
   ]
  },
  {
   "cell_type": "markdown",
   "id": "7daf1971",
   "metadata": {},
   "source": [
    "## CG rich region identification example"
   ]
  },
  {
   "cell_type": "markdown",
   "id": "73002741",
   "metadata": {},
   "source": [
    "Lets take the simplified example of CG island detection on a sequence of DNA. DNA is made up of the four canonical nucleotides, abbreviated 'A', 'C', 'G', and 'T'. We can say that regions of the genome that are enriched for nucleotides 'C' and 'G' are 'CG islands', which is a simplification of the real biological concept but sufficient for our example. The issue with identifying these regions is that they are not exclusively made up of the nucleotides 'C' and 'G', but have some 'A's and 'T's scatted amongst them. A simple model that looked for long stretches of C's and G's would not perform well, because it would miss most of the real regions.\n",
    "\n",
    "We can start off by building the model. Because HMMs involve the transition matrix, which is often represented using a graph over the hidden states, building them requires a few more steps that a simple distribution or the mixture model. Our simple model will be composed of two distributions. One distribution wil be a uniform distribution across all four characters and one will have a preference for the nucleotides C and G, while still allowing the nucleotides A and T to be present."
   ]
  },
  {
   "cell_type": "code",
   "execution_count": 14,
   "id": "8417196b",
   "metadata": {},
   "outputs": [],
   "source": [
    "d1 = DiscreteDistribution({'A': 0.25, 'C': 0.25, 'G': 0.25, 'T': 0.25})\n",
    "d2 = DiscreteDistribution({'A': 0.10, 'C': 0.40, 'G': 0.40, 'T': 0.10}) # << C i G występują tutaj częściej"
   ]
  },
  {
   "cell_type": "code",
   "execution_count": 15,
   "id": "be4b4d69",
   "metadata": {},
   "outputs": [],
   "source": [
    "# Definiujemy dwa stany\n",
    "s1 = State(d1, name='background')\n",
    "s2 = State(d2, name='CG island')"
   ]
  },
  {
   "cell_type": "code",
   "execution_count": 16,
   "id": "9eb92ce3",
   "metadata": {},
   "outputs": [],
   "source": [
    "# Tworzymy model HMM\n",
    "model = HiddenMarkovModel()\n",
    "model.add_states(s1, s2)"
   ]
  },
  {
   "cell_type": "code",
   "execution_count": 17,
   "id": "fe8e26bf",
   "metadata": {},
   "outputs": [],
   "source": [
    "# Dodajemy prawdopodbieństwa przejścia ze stanu do stanu\n",
    "model.add_transition(model.start, s1, 0.5)\n",
    "model.add_transition(model.start, s2, 0.5)\n",
    "model.add_transition(s1, s1, 0.9)\n",
    "model.add_transition(s1, s2, 0.1)\n",
    "model.add_transition(s2, s1, 0.1)\n",
    "model.add_transition(s2, s2, 0.9)"
   ]
  },
  {
   "cell_type": "markdown",
   "id": "323be87e",
   "metadata": {},
   "source": [
    "Now, finally, we need to bake the model in order to finalize the internal structure. Bake must be called when the model has been fully specified."
   ]
  },
  {
   "cell_type": "code",
   "execution_count": 18,
   "id": "8d6d7197",
   "metadata": {},
   "outputs": [],
   "source": [
    "model.bake()"
   ]
  },
  {
   "cell_type": "code",
   "execution_count": 19,
   "id": "17b2d49b",
   "metadata": {},
   "outputs": [
    {
     "name": "stdout",
     "output_type": "stream",
     "text": [
      "sequence: CGACTACTGACTACTCGCCGACGCGACTGCCGTCTATACTGCGCATACGGC\n",
      "hmm pred: 111111111111111000000000000000011111111111111110000\n"
     ]
    }
   ],
   "source": [
    "# Uwaga! Indeksy nie odziweciedlają kolejności dodawania stanów\n",
    "seq = numpy.array(list('CGACTACTGACTACTCGCCGACGCGACTGCCGTCTATACTGCGCATACGGC'))\n",
    "\n",
    "hmm_predictions = model.predict(seq)\n",
    "\n",
    "print(\"sequence: {}\".format(''.join(seq)))\n",
    "print(\"hmm pred: {}\".format(''.join(map( str, hmm_predictions))))"
   ]
  },
  {
   "cell_type": "markdown",
   "id": "eb953b6f",
   "metadata": {},
   "source": [
    "> The predicted integers don't correspond to the order in which states were added to the model, but rather, the order that they exist in the model after a topological sort. "
   ]
  },
  {
   "cell_type": "markdown",
   "id": "77610780",
   "metadata": {},
   "source": [
    "Let's say, though, that we want to get rid of that CG island prediction at the end because we don't believe that real islands can occur at the end of the sequence. We can take care of this by adding in an explicit end state that only the non-island hidden state can get to. We enforce that the model has to end in the end state, and if only the non-island state gets there, the sequence of hidden states must end in the non-island state. Here's how:"
   ]
  },
  {
   "cell_type": "code",
   "execution_count": 22,
   "id": "58a59d6c",
   "metadata": {},
   "outputs": [],
   "source": [
    "model = HiddenMarkovModel()\n",
    "model.add_states(s1, s2)\n",
    "model.add_transition(model.start, s1, 0.5)\n",
    "model.add_transition(model.start, s2, 0.5)\n",
    "model.add_transition(s1, s1, 0.89 )\n",
    "model.add_transition(s1, s2, 0.10 )\n",
    "model.add_transition(s1, model.end, 0.01)\n",
    "model.add_transition(s2, s1, 0.1)\n",
    "model.add_transition(s2, s2, 0.9)\n",
    "model.bake()"
   ]
  },
  {
   "cell_type": "markdown",
   "id": "8372fd50",
   "metadata": {},
   "source": [
    "Note that all we did was add a transition from s1 to model.end with some low probability. This probability doesn't have to be high if there's only a single transition there, because there's no other possible way of getting to the end state."
   ]
  },
  {
   "cell_type": "code",
   "execution_count": 23,
   "id": "48b34b15",
   "metadata": {},
   "outputs": [
    {
     "name": "stdout",
     "output_type": "stream",
     "text": [
      "sequence: CGACTACTGACTACTCGCCGACGCGACTGCCGTCTATACTGCGCATACGGC\n",
      "hmm pred: 111111111111111000000000000000011111111111111111111\n"
     ]
    }
   ],
   "source": [
    "seq = numpy.array(list('CGACTACTGACTACTCGCCGACGCGACTGCCGTCTATACTGCGCATACGGC'))\n",
    "\n",
    "hmm_predictions = model.predict(seq)\n",
    "\n",
    "print(\"sequence: {}\".format(''.join(seq)))\n",
    "print(\"hmm pred: {}\".format(''.join(map( str, hmm_predictions))))\n"
   ]
  },
  {
   "cell_type": "markdown",
   "id": "70949720",
   "metadata": {},
   "source": [
    "In the same way that mixtures could provide probabilistic estimates of class assignments rather than only hard labels, hidden Markov models can do the same. These estimates are the posterior probabilities of belonging to each of the hidden states given the observation, but also given the rest of the sequence."
   ]
  },
  {
   "cell_type": "code",
   "execution_count": 24,
   "id": "512517ad",
   "metadata": {},
   "outputs": [
    {
     "name": "stdout",
     "output_type": "stream",
     "text": [
      "[[0.19841088 0.80158912]\n",
      " [0.32919701 0.67080299]\n",
      " [0.38366073 0.61633927]\n",
      " [0.58044619 0.41955381]\n",
      " [0.69075524 0.30924476]\n",
      " [0.74653183 0.25346817]\n",
      " [0.76392808 0.23607192]]\n"
     ]
    }
   ],
   "source": [
    "print(model.predict_proba(seq)[12:19])"
   ]
  },
  {
   "cell_type": "code",
   "execution_count": null,
   "id": "2542cace",
   "metadata": {},
   "outputs": [],
   "source": []
  }
 ],
 "metadata": {
  "kernelspec": {
   "display_name": "Python 3 (ipykernel)",
   "language": "python",
   "name": "python3"
  },
  "language_info": {
   "codemirror_mode": {
    "name": "ipython",
    "version": 3
   },
   "file_extension": ".py",
   "mimetype": "text/x-python",
   "name": "python",
   "nbconvert_exporter": "python",
   "pygments_lexer": "ipython3",
   "version": "3.8.10"
  }
 },
 "nbformat": 4,
 "nbformat_minor": 5
}
