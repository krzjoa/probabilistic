{
 "cells": [
  {
   "cell_type": "markdown",
   "id": "4bfc97b6",
   "metadata": {},
   "source": [
    "# Bayesian Networks"
   ]
  },
  {
   "cell_type": "markdown",
   "id": "579574a1",
   "metadata": {},
   "source": [
    "Bayesian networks are a powerful inference tool, in which a set of variables are represented as nodes, and the lack of an edge represents a conditional independence statement between the two variables, and an edge represents a dependence between the two variables. One of the powerful components of a Bayesian network is the ability to infer the values of certain variables, given observed values for another set of variables. These are referred to as the 'hidden' and 'observed' variables respectively, and need not be set at the time the network is created. The same network can have a different set of variables be hidden or observed between two data points. The more values which are observed, the closer the inferred values will be to the truth.\n",
    "\n",
    "While Bayesian networks can have extremely complex emission probabilities, usually Gaussian or conditional Gaussian distributions, pomegranate currently supports only discrete Bayesian networks. Bayesian networks are explicitly turned into Factor Graphs when inference is done, wherein the Bayesian network is turned into a bipartite graph with all variables having marginal nodes on one side, and joint tables on the other."
   ]
  },
  {
   "cell_type": "code",
   "execution_count": 2,
   "id": "91e5cd4d",
   "metadata": {},
   "outputs": [],
   "source": [
    "%matplotlib inline\n",
    "import matplotlib.pyplot as plt\n",
    "import seaborn; seaborn.set_style('whitegrid')\n",
    "import numpy as np\n",
    "\n",
    "from pomegranate import *\n",
    "\n",
    "numpy.random.seed(0)\n",
    "numpy.set_printoptions(suppress=True)"
   ]
  },
  {
   "cell_type": "markdown",
   "id": "7821277d",
   "metadata": {},
   "source": [
    "## The Monty Hall Gameshow"
   ]
  },
  {
   "cell_type": "markdown",
   "id": "97f18147",
   "metadata": {},
   "source": [
    "The Monty Hall problem (***Idź na całość***) arose from the gameshow Let's Make a Deal, where a guest had to choose which one of three doors had a prize behind it. The twist was that after the guest chose, the host, originally Monty Hall, would then open one of the doors the guest did not pick and ask if the guest wanted to switch which door they had picked. Initial inspection may lead you to believe that if there are only two doors left, there is a 50-50 chance of you picking the right one, and so there is no advantage one way or the other. However, it has been proven both through simulations and analytically that there is in fact a 66% chance of getting the prize if the guest switches their door, regardless of the door they initially went with.\n",
    "\n",
    "We can reproduce this result using Bayesian networks with three nodes, one for the guest, one for the prize, and one for the door Monty chooses to open. The door the guest initially chooses and the door the prize is behind are completely random processes across the three doors, but the door which Monty opens is dependent on both the door the guest chooses (it cannot be the door the guest chooses), and the door the prize is behind (it cannot be the door with the prize behind it).\n",
    "\n",
    "To create the Bayesian network in pomegranate, we first create the distributions which live in each node in the graph. For a discrete (aka categorical) bayesian network we use DiscreteDistribution objects for the root nodes and ConditionalProbabilityTable objects for the inner and leaf nodes. The columns in a ConditionalProbabilityTable correspond to the order in which the parents (the second argument) are specified, and the last column is the value the ConditionalProbabilityTable itself takes. In the case below, the first column corresponds to the value 'guest' takes, then the value 'prize' takes, and then the value that 'monty' takes. 'B', 'C', 'A' refers then to the probability that Monty reveals door 'A' given that the guest has chosen door 'B' and that the prize is actually behind door 'C', or P(Monty='A'|Guest='B', Prize='C')."
   ]
  },
  {
   "cell_type": "code",
   "execution_count": 3,
   "id": "19914440",
   "metadata": {},
   "outputs": [],
   "source": [
    "# The guests initial door selection is completely random\n",
    "guest = DiscreteDistribution({'A': 1./3, 'B': 1./3, 'C': 1./3})\n",
    "\n",
    "# The door the prize is behind is also completely random\n",
    "prize = DiscreteDistribution({'A': 1./3, 'B': 1./3, 'C': 1./3})\n",
    "\n",
    "    # Monty is dependent on both the guest and the prize. \n",
    "monty = ConditionalProbabilityTable(\n",
    "        [[ 'A', 'A', 'A', 0.0 ],\n",
    "         [ 'A', 'A', 'B', 0.5 ],\n",
    "         [ 'A', 'A', 'C', 0.5 ],\n",
    "         [ 'A', 'B', 'A', 0.0 ],\n",
    "         [ 'A', 'B', 'B', 0.0 ],\n",
    "         [ 'A', 'B', 'C', 1.0 ],\n",
    "         [ 'A', 'C', 'A', 0.0 ],\n",
    "         [ 'A', 'C', 'B', 1.0 ],\n",
    "         [ 'A', 'C', 'C', 0.0 ],\n",
    "         [ 'B', 'A', 'A', 0.0 ],\n",
    "         [ 'B', 'A', 'B', 0.0 ],\n",
    "         [ 'B', 'A', 'C', 1.0 ],\n",
    "         [ 'B', 'B', 'A', 0.5 ],\n",
    "         [ 'B', 'B', 'B', 0.0 ],\n",
    "         [ 'B', 'B', 'C', 0.5 ],\n",
    "         [ 'B', 'C', 'A', 1.0 ],\n",
    "         [ 'B', 'C', 'B', 0.0 ],\n",
    "         [ 'B', 'C', 'C', 0.0 ],\n",
    "         [ 'C', 'A', 'A', 0.0 ],\n",
    "         [ 'C', 'A', 'B', 1.0 ],\n",
    "         [ 'C', 'A', 'C', 0.0 ],\n",
    "         [ 'C', 'B', 'A', 1.0 ],\n",
    "         [ 'C', 'B', 'B', 0.0 ],\n",
    "         [ 'C', 'B', 'C', 0.0 ],\n",
    "         [ 'C', 'C', 'A', 0.5 ],\n",
    "         [ 'C', 'C', 'B', 0.5 ],\n",
    "         [ 'C', 'C', 'C', 0.0 ]], [guest, prize])  \n",
    "\n",
    "# Przykładowo\n",
    "# P(Monty='A'|Guest='B', Prize='C') = 1\n",
    "# Jeśli gość wybrał B a nagroda jest w C, Monty musi odkryć A czyli nie ma wyboru\n",
    "# Jeśli gość odkrył nagrodę, to Monty może losowo wybrać jedne z dwóch drzwi, bo i tak nie odkryje nagrody\n",
    "# Wówczas: P(Monty='B'|Guest='C', Prize='C') = 0.5 i P(Monty='A'|Guest='C', Prize='C') = 0.5"
   ]
  },
  {
   "cell_type": "code",
   "execution_count": 4,
   "id": "cecf2655",
   "metadata": {},
   "outputs": [],
   "source": [
    "# State objects hold both the distribution, and a high level name.\n",
    "s1 = State(guest, name=\"guest\")\n",
    "s2 = State(prize, name=\"prize\")\n",
    "s3 = State(monty, name=\"monty\")"
   ]
  },
  {
   "cell_type": "code",
   "execution_count": 5,
   "id": "18c37aaf",
   "metadata": {},
   "outputs": [],
   "source": [
    "# Create the Bayesian network object with a useful name\n",
    "model = BayesianNetwork(\"Monty Hall Problem\")\n",
    "\n",
    "# Add the three states to the network \n",
    "model.add_states(s1, s2, s3)"
   ]
  },
  {
   "cell_type": "code",
   "execution_count": 6,
   "id": "f066d18f",
   "metadata": {},
   "outputs": [],
   "source": [
    "# Add edges which represent conditional dependencies, where the second node is \n",
    "# conditionally dependent on the first node (Monty is dependent on both guest and prize)\n",
    "# Oznacza to, że wybór Montiego jest zależny od dwóch zdarzeń losowych\n",
    "# Wystąpienie nagrody i wybór gościa są od siebie niezależne\n",
    "model.add_edge(s1, s3)\n",
    "model.add_edge(s2, s3)"
   ]
  },
  {
   "cell_type": "code",
   "execution_count": 7,
   "id": "412f6f35",
   "metadata": {},
   "outputs": [],
   "source": [
    "model.bake()"
   ]
  },
  {
   "cell_type": "code",
   "execution_count": 8,
   "id": "3d3d0ae2",
   "metadata": {},
   "outputs": [],
   "source": [
    "# model.plot(\"here.jpg\")"
   ]
  },
  {
   "cell_type": "markdown",
   "id": "0549aa2a",
   "metadata": {},
   "source": [
    "### Prawdopodbieństwo sekwencji zdarzeń"
   ]
  },
  {
   "cell_type": "code",
   "execution_count": 9,
   "id": "0aab6f79",
   "metadata": {},
   "outputs": [
    {
     "data": {
      "text/plain": [
       "0.11111111111111109"
      ]
     },
     "execution_count": 9,
     "metadata": {},
     "output_type": "execute_result"
    }
   ],
   "source": [
    "model.probability([['A', 'B', 'C']])"
   ]
  },
  {
   "cell_type": "code",
   "execution_count": 10,
   "id": "44f526d9",
   "metadata": {},
   "outputs": [
    {
     "data": {
      "text/plain": [
       "array([{\n",
       "           \"class\" : \"Distribution\",\n",
       "           \"dtype\" : \"str\",\n",
       "           \"name\" : \"DiscreteDistribution\",\n",
       "           \"parameters\" : [\n",
       "               {\n",
       "                   \"A\" : 0.33333333333333337,\n",
       "                   \"B\" : 0.33333333333333337,\n",
       "                   \"C\" : 0.33333333333333337\n",
       "               }\n",
       "           ],\n",
       "           \"frozen\" : false\n",
       "       }                                     ,\n",
       "       {\n",
       "           \"class\" : \"Distribution\",\n",
       "           \"dtype\" : \"str\",\n",
       "           \"name\" : \"DiscreteDistribution\",\n",
       "           \"parameters\" : [\n",
       "               {\n",
       "                   \"A\" : 0.33333333333333337,\n",
       "                   \"B\" : 0.33333333333333337,\n",
       "                   \"C\" : 0.33333333333333337\n",
       "               }\n",
       "           ],\n",
       "           \"frozen\" : false\n",
       "       }                                     ,\n",
       "       {\n",
       "           \"class\" : \"Distribution\",\n",
       "           \"dtype\" : \"str\",\n",
       "           \"name\" : \"DiscreteDistribution\",\n",
       "           \"parameters\" : [\n",
       "               {\n",
       "                   \"A\" : 0.3333333333333333,\n",
       "                   \"B\" : 0.3333333333333333,\n",
       "                   \"C\" : 0.3333333333333333\n",
       "               }\n",
       "           ],\n",
       "           \"frozen\" : false\n",
       "       }                                    ], dtype=object)"
      ]
     },
     "execution_count": 10,
     "metadata": {},
     "output_type": "execute_result"
    }
   ],
   "source": [
    "model.predict_proba({})"
   ]
  },
  {
   "cell_type": "code",
   "execution_count": 11,
   "id": "5b4e0469",
   "metadata": {},
   "outputs": [
    {
     "data": {
      "text/plain": [
       "[array([{\n",
       "            \"class\" : \"Distribution\",\n",
       "            \"dtype\" : \"str\",\n",
       "            \"name\" : \"DiscreteDistribution\",\n",
       "            \"parameters\" : [\n",
       "                {\n",
       "                    \"A\" : 0.33333333333333337,\n",
       "                    \"B\" : 0.33333333333333337,\n",
       "                    \"C\" : 0.33333333333333337\n",
       "                }\n",
       "            ],\n",
       "            \"frozen\" : false\n",
       "        }                                     ,\n",
       "        {\n",
       "            \"class\" : \"Distribution\",\n",
       "            \"dtype\" : \"str\",\n",
       "            \"name\" : \"DiscreteDistribution\",\n",
       "            \"parameters\" : [\n",
       "                {\n",
       "                    \"A\" : 0.33333333333333337,\n",
       "                    \"B\" : 0.33333333333333337,\n",
       "                    \"C\" : 0.33333333333333337\n",
       "                }\n",
       "            ],\n",
       "            \"frozen\" : false\n",
       "        }                                     ,\n",
       "        {\n",
       "            \"class\" : \"Distribution\",\n",
       "            \"dtype\" : \"str\",\n",
       "            \"name\" : \"DiscreteDistribution\",\n",
       "            \"parameters\" : [\n",
       "                {\n",
       "                    \"A\" : 0.3333333333333333,\n",
       "                    \"B\" : 0.3333333333333333,\n",
       "                    \"C\" : 0.3333333333333333\n",
       "                }\n",
       "            ],\n",
       "            \"frozen\" : false\n",
       "        }                                    ], dtype=object)]"
      ]
     },
     "execution_count": 11,
     "metadata": {},
     "output_type": "execute_result"
    }
   ],
   "source": [
    "model.predict_proba([[None, None, None]])"
   ]
  },
  {
   "cell_type": "code",
   "execution_count": 12,
   "id": "9b1ebf2d",
   "metadata": {},
   "outputs": [
    {
     "data": {
      "text/plain": [
       "[array(['A', {\n",
       "                 \"class\" : \"Distribution\",\n",
       "                 \"dtype\" : \"str\",\n",
       "                 \"name\" : \"DiscreteDistribution\",\n",
       "                 \"parameters\" : [\n",
       "                     {\n",
       "                         \"A\" : 0.3333333333333333,\n",
       "                         \"B\" : 0.3333333333333333,\n",
       "                         \"C\" : 0.3333333333333333\n",
       "                     }\n",
       "                 ],\n",
       "                 \"frozen\" : false\n",
       "             }                                    ,\n",
       "        {\n",
       "            \"class\" : \"Distribution\",\n",
       "            \"dtype\" : \"str\",\n",
       "            \"name\" : \"DiscreteDistribution\",\n",
       "            \"parameters\" : [\n",
       "                {\n",
       "                    \"A\" : 0.0,\n",
       "                    \"B\" : 0.49999999999999983,\n",
       "                    \"C\" : 0.49999999999999983\n",
       "                }\n",
       "            ],\n",
       "            \"frozen\" : false\n",
       "        }                                     ], dtype=object)]"
      ]
     },
     "execution_count": 12,
     "metadata": {},
     "output_type": "execute_result"
    }
   ],
   "source": [
    "model.predict_proba([['A', None, None]])"
   ]
  },
  {
   "cell_type": "code",
   "execution_count": 13,
   "id": "4435a7f7",
   "metadata": {},
   "outputs": [
    {
     "data": {
      "text/plain": [
       "[array(['A', {\n",
       "                 \"class\" : \"Distribution\",\n",
       "                 \"dtype\" : \"str\",\n",
       "                 \"name\" : \"DiscreteDistribution\",\n",
       "                 \"parameters\" : [\n",
       "                     {\n",
       "                         \"A\" : 0.3333333333333334,\n",
       "                         \"B\" : 0.6666666666666664,\n",
       "                         \"C\" : 0.0\n",
       "                     }\n",
       "                 ],\n",
       "                 \"frozen\" : false\n",
       "             }                                    , 'C'], dtype=object)]"
      ]
     },
     "execution_count": 13,
     "metadata": {},
     "output_type": "execute_result"
    }
   ],
   "source": [
    "model.predict_proba([{'guest': 'A', 'monty': 'C'}])"
   ]
  },
  {
   "cell_type": "markdown",
   "id": "578076d0",
   "metadata": {},
   "source": [
    "## Imputation Given Structured Constraints"
   ]
  },
  {
   "cell_type": "code",
   "execution_count": 14,
   "id": "53b4e953",
   "metadata": {},
   "outputs": [
    {
     "data": {
      "image/png": "[encoded data removed]",
      "text/plain": [
       "<Figure size 432x288 with 1 Axes>"
      ]
     },
     "metadata": {},
     "output_type": "display_data"
    }
   ],
   "source": [
    "from sklearn.datasets import load_digits\n",
    "\n",
    "data = load_digits()\n",
    "X, _ = data.data, data.target\n",
    "\n",
    "plt.imshow(X[0].reshape(8, 8))\n",
    "plt.grid(False)\n",
    "plt.show()\n",
    "\n",
    "X = X[:,:16]\n",
    "X = (X > numpy.median(X)).astype('float64')\n",
    "# Zero"
   ]
  },
  {
   "cell_type": "markdown",
   "id": "09af2e78",
   "metadata": {},
   "source": [
    "Now let's remove a large portion of the pixels randomly from each of the images. We can do that with numpy arrays by setting missing values to `np.nan`."
   ]
  },
  {
   "cell_type": "code",
   "execution_count": 15,
   "id": "94fc3f25",
   "metadata": {},
   "outputs": [
    {
     "data": {
      "text/plain": [
       "array([[ 0.,  0.,  1., ...,  1.,  1.,  0.],\n",
       "       [ 0., nan, nan, ..., nan,  0.,  0.],\n",
       "       [ 0.,  0., nan, ...,  1.,  0.,  0.],\n",
       "       ...,\n",
       "       [ 0.,  0., nan, ...,  1.,  0., nan],\n",
       "       [ 0., nan, nan, ...,  1., nan,  0.],\n",
       "       [nan,  0.,  1., ..., nan,  0., nan]])"
      ]
     },
     "execution_count": 15,
     "metadata": {},
     "output_type": "execute_result"
    }
   ],
   "source": [
    "numpy.random.seed(111)\n",
    "\n",
    "i = numpy.random.randint(X.shape[0], size=10000)\n",
    "j = numpy.random.randint(X.shape[1], size=10000)\n",
    "\n",
    "X_missing = X.copy()\n",
    "X_missing[i, j] = numpy.nan\n",
    "X_missing"
   ]
  },
  {
   "cell_type": "code",
   "execution_count": 16,
   "id": "fd442af1",
   "metadata": {},
   "outputs": [
    {
     "data": {
      "image/png": "[encoded data removed]",
      "text/plain": [
       "<Figure size 432x288 with 1 Axes>"
      ]
     },
     "metadata": {},
     "output_type": "display_data"
    }
   ],
   "source": [
    "plt.imshow(X[0].reshape(8, 2))\n",
    "plt.grid(False)\n",
    "plt.show()"
   ]
  },
  {
   "cell_type": "markdown",
   "id": "d17db507",
   "metadata": {},
   "source": [
    "We can set up a baseline for how good an imputation is by using the average pixel value as a replacement. Because this is binary data, we can use the mean absolute error to measure how good these approaches are on imputing the pixels that are not observed"
   ]
  },
  {
   "cell_type": "code",
   "execution_count": 17,
   "id": "6cc91a34",
   "metadata": {},
   "outputs": [
    {
     "data": {
      "text/plain": [
       "0.1954958904004812"
      ]
     },
     "execution_count": 17,
     "metadata": {},
     "output_type": "execute_result"
    }
   ],
   "source": [
    "from fancyimpute import SimpleFill\n",
    "\n",
    "y_pred = SimpleFill().fit_transform(X_missing)[i, j]\n",
    "numpy.abs(y_pred - X[i, j]).mean()"
   ]
  },
  {
   "cell_type": "code",
   "execution_count": 18,
   "id": "95444a3a",
   "metadata": {},
   "outputs": [
    {
     "data": {
      "text/plain": [
       "0.2664581859437127"
      ]
     },
     "execution_count": 18,
     "metadata": {},
     "output_type": "execute_result"
    }
   ],
   "source": [
    "from fancyimpute import IterativeSVD\n",
    "\n",
    "y_pred = IterativeSVD(verbose=False).fit_transform(X_missing)[i, j]\n",
    "numpy.abs(y_pred - X[i, j]).mean()"
   ]
  },
  {
   "cell_type": "markdown",
   "id": "089aa136",
   "metadata": {},
   "source": [
    "Now, we can try building a Bayesian network using the **[Chow-Liu algorithm](https://web.stanford.edu/class/ee376a/files/2017-18/chow-liu.pdf)** and then use the resulting network to fill in the matrix."
   ]
  },
  {
   "cell_type": "code",
   "execution_count": 19,
   "id": "e71b0436",
   "metadata": {},
   "outputs": [
    {
     "data": {
      "text/plain": [
       "0.1092"
      ]
     },
     "execution_count": 19,
     "metadata": {},
     "output_type": "execute_result"
    }
   ],
   "source": [
    "y_hat = BayesianNetwork.from_samples(X_missing, max_parents=1).predict(X_missing)\n",
    "numpy.abs(numpy.array(y_hat)[i, j] - X[i, j]).mean()"
   ]
  },
  {
   "cell_type": "code",
   "execution_count": 23,
   "id": "408f97a7",
   "metadata": {},
   "outputs": [],
   "source": [
    "# plt.imshow(y_hat[0].reshape(8, 2))\n",
    "# plt.grid(False)\n",
    "# plt.show() "
   ]
  },
  {
   "cell_type": "code",
   "execution_count": 20,
   "id": "c91c0e43",
   "metadata": {},
   "outputs": [
    {
     "data": {
      "text/plain": [
       "0.16290500020624946"
      ]
     },
     "execution_count": 20,
     "metadata": {},
     "output_type": "execute_result"
    }
   ],
   "source": [
    "from fancyimpute import KNN\n",
    "\n",
    "y_pred = KNN(verbose=False).fit_transform(X_missing)[i, j]\n",
    "numpy.abs(y_pred - X[i, j]).mean()"
   ]
  },
  {
   "cell_type": "markdown",
   "id": "6b642318",
   "metadata": {},
   "source": [
    "## API"
   ]
  },
  {
   "cell_type": "code",
   "execution_count": 32,
   "id": "68bb1fa9",
   "metadata": {},
   "outputs": [],
   "source": [
    "np.random.seed(111)\n",
    "\n",
    "X = np.random.randint(2, size=(15, 15))\n",
    "X[:,5] = X[:,4] = X[:,3]\n",
    "X[:,11] = X[:,12] = X[:,13]\n",
    "\n",
    "model = BayesianNetwork.from_samples(X)\n",
    "# model.plot('lol.png')"
   ]
  },
  {
   "cell_type": "code",
   "execution_count": 33,
   "id": "3d28e4b1",
   "metadata": {},
   "outputs": [
    {
     "data": {
      "text/plain": [
       "[array([False, False, False, False, 0, 0, False, 1, False, 0, True, 1, 1,\n",
       "        True, False], dtype=object)]"
      ]
     },
     "execution_count": 33,
     "metadata": {},
     "output_type": "execute_result"
    }
   ],
   "source": [
    "model.predict([[False, False, False, False, None, None, False, None, False, None, True, None, None, True, False]])"
   ]
  },
  {
   "cell_type": "code",
   "execution_count": 34,
   "id": "77ce6761",
   "metadata": {},
   "outputs": [
    {
     "data": {
      "text/plain": [
       "[array([False, False, False, False, {\n",
       "                                        \"class\" : \"Distribution\",\n",
       "                                        \"dtype\" : \"numpy.int32\",\n",
       "                                        \"name\" : \"DiscreteDistribution\",\n",
       "                                        \"parameters\" : [\n",
       "                                            {\n",
       "                                                \"0\" : 1.0,\n",
       "                                                \"1\" : 0.0\n",
       "                                            }\n",
       "                                        ],\n",
       "                                        \"frozen\" : false\n",
       "                                    }                                   ,\n",
       "        {\n",
       "            \"class\" : \"Distribution\",\n",
       "            \"dtype\" : \"numpy.int32\",\n",
       "            \"name\" : \"DiscreteDistribution\",\n",
       "            \"parameters\" : [\n",
       "                {\n",
       "                    \"0\" : 1.0,\n",
       "                    \"1\" : 0.0\n",
       "                }\n",
       "            ],\n",
       "            \"frozen\" : false\n",
       "        }                                   , False,\n",
       "        {\n",
       "            \"class\" : \"Distribution\",\n",
       "            \"dtype\" : \"numpy.int32\",\n",
       "            \"name\" : \"DiscreteDistribution\",\n",
       "            \"parameters\" : [\n",
       "                {\n",
       "                    \"0\" : 0.44444444444444453,\n",
       "                    \"1\" : 0.5555555555555556\n",
       "                }\n",
       "            ],\n",
       "            \"frozen\" : false\n",
       "        }                                     , False,\n",
       "        {\n",
       "            \"class\" : \"Distribution\",\n",
       "            \"dtype\" : \"numpy.int32\",\n",
       "            \"name\" : \"DiscreteDistribution\",\n",
       "            \"parameters\" : [\n",
       "                {\n",
       "                    \"0\" : 1.0,\n",
       "                    \"1\" : 0.0\n",
       "                }\n",
       "            ],\n",
       "            \"frozen\" : false\n",
       "        }                                   , True,\n",
       "        {\n",
       "            \"class\" : \"Distribution\",\n",
       "            \"dtype\" : \"numpy.int32\",\n",
       "            \"name\" : \"DiscreteDistribution\",\n",
       "            \"parameters\" : [\n",
       "                {\n",
       "                    \"0\" : 0.0,\n",
       "                    \"1\" : 1.0\n",
       "                }\n",
       "            ],\n",
       "            \"frozen\" : false\n",
       "        }                                   ,\n",
       "        {\n",
       "            \"class\" : \"Distribution\",\n",
       "            \"dtype\" : \"numpy.int32\",\n",
       "            \"name\" : \"DiscreteDistribution\",\n",
       "            \"parameters\" : [\n",
       "                {\n",
       "                    \"0\" : 0.0,\n",
       "                    \"1\" : 1.0\n",
       "                }\n",
       "            ],\n",
       "            \"frozen\" : false\n",
       "        }                                   , True, False], dtype=object)]"
      ]
     },
     "execution_count": 34,
     "metadata": {},
     "output_type": "execute_result"
    }
   ],
   "source": [
    "model.predict_proba([[False, False, False, False, None, None, False, None, False, None, \n",
    "                      True, None, None, True, False]])"
   ]
  }
 ],
 "metadata": {
  "kernelspec": {
   "display_name": "Python 3 (ipykernel)",
   "language": "python",
   "name": "python3"
  },
  "language_info": {
   "codemirror_mode": {
    "name": "ipython",
    "version": 3
   },
   "file_extension": ".py",
   "mimetype": "text/x-python",
   "name": "python",
   "nbconvert_exporter": "python",
   "pygments_lexer": "ipython3",
   "version": "3.9.13"
  }
 },
 "nbformat": 4,
 "nbformat_minor": 5
}
