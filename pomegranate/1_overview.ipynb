{
 "cells": [
  {
   "cell_type": "code",
   "execution_count": 109,
   "id": "af119d17",
   "metadata": {},
   "outputs": [],
   "source": [
    "%matplotlib inline\n",
    "import time\n",
    "import pandas\n",
    "import random\n",
    "import numpy as np\n",
    "import matplotlib.pyplot as plt\n",
    "import seaborn; seaborn.set_style('whitegrid')\n",
    "import itertools\n",
    "import pandas as pd\n",
    "\n",
    "from pomegranate import *\n",
    "\n",
    "random.seed(0)\n",
    "numpy.random.seed(0)\n",
    "numpy.set_printoptions(suppress=True)\n",
    "\n",
    "#%load_ext watermark\n",
    "#%watermark -m -n -p numpy,scipy,pomegranate"
   ]
  },
  {
   "cell_type": "markdown",
   "id": "550e0fd4",
   "metadata": {},
   "source": [
    "# Distribution"
   ]
  },
  {
   "cell_type": "code",
   "execution_count": 3,
   "id": "6aa31008",
   "metadata": {},
   "outputs": [],
   "source": [
    "model = NormalDistribution(5, 1)"
   ]
  },
  {
   "cell_type": "code",
   "execution_count": 4,
   "id": "19cccfc2",
   "metadata": {},
   "outputs": [
    {
     "name": "stdout",
     "output_type": "stream",
     "text": [
      "[0.24197072 0.39894228 0.24197072 0.05399097]\n",
      "[-1.41893853 -0.91893853 -1.41893853 -2.91893853]\n"
     ]
    }
   ],
   "source": [
    "print(model.probability([4., 5., 6., 7.]))\n",
    "print(model.log_probability([4., 5., 6., 7.]))"
   ]
  },
  {
   "cell_type": "code",
   "execution_count": 5,
   "id": "7ab050c0",
   "metadata": {},
   "outputs": [],
   "source": [
    "X = np.array([1,2,3,4,5,6,7,8, 1, 2, 3])"
   ]
  },
  {
   "cell_type": "code",
   "execution_count": 6,
   "id": "29d18956",
   "metadata": {},
   "outputs": [
    {
     "data": {
      "text/plain": [
       "2.289032420366213"
      ]
     },
     "execution_count": 6,
     "metadata": {},
     "output_type": "execute_result"
    }
   ],
   "source": [
    "np.mean(X)\n",
    "np.std(X)"
   ]
  },
  {
   "cell_type": "code",
   "execution_count": 7,
   "id": "b1681e24",
   "metadata": {},
   "outputs": [],
   "source": [
    "# Fits completley changes the values of the distribution"
   ]
  },
  {
   "cell_type": "code",
   "execution_count": 8,
   "id": "b1779257",
   "metadata": {},
   "outputs": [],
   "source": [
    "model.fit(X)"
   ]
  },
  {
   "cell_type": "code",
   "execution_count": 9,
   "id": "6e7b245d",
   "metadata": {},
   "outputs": [
    {
     "data": {
      "text/plain": [
       "{\n",
       "    \"class\" : \"Distribution\",\n",
       "    \"name\" : \"NormalDistribution\",\n",
       "    \"parameters\" : [\n",
       "        3.8181818181818183,\n",
       "        2.2890324203662127\n",
       "    ],\n",
       "    \"frozen\" : false\n",
       "}"
      ]
     },
     "execution_count": 9,
     "metadata": {},
     "output_type": "execute_result"
    }
   ],
   "source": [
    "model"
   ]
  },
  {
   "cell_type": "code",
   "execution_count": 10,
   "id": "bb6d9547",
   "metadata": {},
   "outputs": [],
   "source": [
    "model.fit([1])"
   ]
  },
  {
   "cell_type": "code",
   "execution_count": 11,
   "id": "c4d4615a",
   "metadata": {},
   "outputs": [
    {
     "data": {
      "text/plain": [
       "{\n",
       "    \"class\" : \"Distribution\",\n",
       "    \"name\" : \"NormalDistribution\",\n",
       "    \"parameters\" : [\n",
       "        2.5,\n",
       "        1.118033988749895\n",
       "    ],\n",
       "    \"frozen\" : false\n",
       "}"
      ]
     },
     "execution_count": 11,
     "metadata": {},
     "output_type": "execute_result"
    }
   ],
   "source": [
    "NormalDistribution.from_samples([1,2,3,4])"
   ]
  },
  {
   "cell_type": "markdown",
   "id": "41f576a1",
   "metadata": {},
   "source": [
    "## General Mixture Model"
   ]
  },
  {
   "cell_type": "code",
   "execution_count": 12,
   "id": "5a4805a9",
   "metadata": {},
   "outputs": [],
   "source": [
    "X_mixt =  np.random.normal(6, 1, size=(250, 1))\n",
    "X_mixt = np.array([1,2,3,4,5, 30, 31, 32, 33, 34, 35, 90, 91, 92, 93, 94, 95]).reshape(-1, 1)"
   ]
  },
  {
   "cell_type": "code",
   "execution_count": 13,
   "id": "f5520795",
   "metadata": {},
   "outputs": [],
   "source": [
    "model = GeneralMixtureModel.from_samples(NormalDistribution, 3, X_mixt)"
   ]
  },
  {
   "cell_type": "code",
   "execution_count": 14,
   "id": "e4c42b3a",
   "metadata": {},
   "outputs": [
    {
     "data": {
      "text/plain": [
       "{\n",
       "    \"class\" : \"GeneralMixtureModel\",\n",
       "    \"distributions\" : [\n",
       "        {\n",
       "            \"class\" : \"Distribution\",\n",
       "            \"name\" : \"NormalDistribution\",\n",
       "            \"parameters\" : [\n",
       "                3.0,\n",
       "                1.4142135623730951\n",
       "            ],\n",
       "            \"frozen\" : false\n",
       "        },\n",
       "        {\n",
       "            \"class\" : \"Distribution\",\n",
       "            \"name\" : \"NormalDistribution\",\n",
       "            \"parameters\" : [\n",
       "                92.5,\n",
       "                1.7078251276597556\n",
       "            ],\n",
       "            \"frozen\" : false\n",
       "        },\n",
       "        {\n",
       "            \"class\" : \"Distribution\",\n",
       "            \"name\" : \"NormalDistribution\",\n",
       "            \"parameters\" : [\n",
       "                32.5,\n",
       "                1.7078251276599552\n",
       "            ],\n",
       "            \"frozen\" : false\n",
       "        }\n",
       "    ],\n",
       "    \"weights\" : [\n",
       "        0.29411764705882354,\n",
       "        0.35294117647058826,\n",
       "        0.35294117647058826\n",
       "    ]\n",
       "}"
      ]
     },
     "execution_count": 14,
     "metadata": {},
     "output_type": "execute_result"
    }
   ],
   "source": [
    "model"
   ]
  },
  {
   "cell_type": "markdown",
   "id": "606839c3",
   "metadata": {},
   "source": [
    "## Exponential Distribution\n",
    "[Exponential Distribution](https://openstax.org/books/introductory-business-statistics/pages/5-3-the-exponential-distribution)\n",
    "> The exponential distribution is often concerned with the amount of time until some specific event occurs."
   ]
  },
  {
   "cell_type": "code",
   "execution_count": 85,
   "id": "8f496361",
   "metadata": {},
   "outputs": [],
   "source": [
    "d1 = ExponentialDistribution(5.0)\n",
    "d2 = ExponentialDistribution(0.3)\n",
    "d3 = ExponentialDistribution(1.5)"
   ]
  },
  {
   "cell_type": "code",
   "execution_count": 86,
   "id": "ce07fc7a",
   "metadata": {},
   "outputs": [],
   "source": [
    "model = GeneralMixtureModel([d1, d2, d3])"
   ]
  },
  {
   "cell_type": "code",
   "execution_count": 92,
   "id": "2f433b27",
   "metadata": {},
   "outputs": [
    {
     "data": {
      "text/plain": [
       "array([[0.23008038],\n",
       "       [2.02572367],\n",
       "       [3.79286211],\n",
       "       [4.01996808],\n",
       "       [7.10919304],\n",
       "       [4.82629595],\n",
       "       [1.11723891],\n",
       "       [2.07006493],\n",
       "       [3.6298294 ],\n",
       "       [0.44702074]])"
      ]
     },
     "execution_count": 92,
     "metadata": {},
     "output_type": "execute_result"
    }
   ],
   "source": [
    "X = numpy.random.exponential(3, size=(10,1))\n",
    "X"
   ]
  },
  {
   "cell_type": "code",
   "execution_count": 90,
   "id": "e42610e3",
   "metadata": {},
   "outputs": [
    {
     "data": {
      "text/plain": [
       "array([1, 1, 1, 2, 1, 1, 1, 0, 1, 1], dtype=int32)"
      ]
     },
     "execution_count": 90,
     "metadata": {},
     "output_type": "execute_result"
    }
   ],
   "source": [
    "# Result of the predict is argmax\n",
    "model.predict(X)"
   ]
  },
  {
   "cell_type": "markdown",
   "id": "f5e13d8f",
   "metadata": {},
   "source": [
    ">  Calculate the posterior P(M|D) for each sample and return the index\n",
    "   of the component most likely to fit it. This corresponds to a simple argmax over the responsibility matrix."
   ]
  },
  {
   "cell_type": "code",
   "execution_count": 91,
   "id": "a6985c8d",
   "metadata": {},
   "outputs": [
    {
     "data": {
      "text/plain": [
       "array([[0.00000008, 0.96311225, 0.03688766],\n",
       "       [0.00000002, 0.97563452, 0.02436546],\n",
       "       [0.        , 0.99907959, 0.00092041],\n",
       "       [0.30704839, 0.18326159, 0.50969002],\n",
       "       [0.0001308 , 0.79108012, 0.20878908],\n",
       "       [0.00374404, 0.59739455, 0.39886141],\n",
       "       [0.        , 0.99951371, 0.00048629],\n",
       "       [0.4444887 , 0.12763069, 0.42788061],\n",
       "       [0.        , 0.99999767, 0.00000233],\n",
       "       [0.        , 0.99723948, 0.00276052]])"
      ]
     },
     "execution_count": 91,
     "metadata": {},
     "output_type": "execute_result"
    }
   ],
   "source": [
    "results = model.predict_proba(X)\n",
    "results"
   ]
  },
  {
   "cell_type": "code",
   "execution_count": 32,
   "id": "f7e8931e",
   "metadata": {},
   "outputs": [],
   "source": [
    "model = ExponentialDistribution(0.5)"
   ]
  },
  {
   "cell_type": "code",
   "execution_count": 33,
   "id": "945270c1",
   "metadata": {},
   "outputs": [
    {
     "data": {
      "image/png": "[encoded data removed]",
      "text/plain": [
       "<Figure size 432x288 with 1 Axes>"
      ]
     },
     "metadata": {},
     "output_type": "display_data"
    }
   ],
   "source": [
    "model.plot()"
   ]
  },
  {
   "cell_type": "code",
   "execution_count": 35,
   "id": "eb148be5",
   "metadata": {},
   "outputs": [
    {
     "data": {
      "text/plain": [
       "0.3032653298563167"
      ]
     },
     "execution_count": 35,
     "metadata": {},
     "output_type": "execute_result"
    }
   ],
   "source": [
    "model.probability(1.)"
   ]
  },
  {
   "cell_type": "code",
   "execution_count": 36,
   "id": "1a20af4b",
   "metadata": {},
   "outputs": [
    {
     "data": {
      "text/plain": [
       "0.04104249931194939"
      ]
     },
     "execution_count": 36,
     "metadata": {},
     "output_type": "execute_result"
    }
   ],
   "source": [
    "model.probability(5.0)"
   ]
  },
  {
   "cell_type": "markdown",
   "id": "27172d13",
   "metadata": {},
   "source": [
    "## Naive Bayes"
   ]
  },
  {
   "cell_type": "markdown",
   "id": "afd47d4e",
   "metadata": {},
   "source": [
    "In sklearn, we can only choose Naive Bayes models with Gaussian or Multinomial probability distributions.\n",
    " * Multinonmial = counts\n",
    " * Gaussian = continuous features\n",
    " \n",
    "[Difference between naive Bayes & multinomial naive Bayes](https://stats.stackexchange.com/questions/33185/difference-between-naive-bayes-multinomial-naive-bayes)"
   ]
  },
  {
   "cell_type": "markdown",
   "id": "cbf0cd69",
   "metadata": {},
   "source": [
    "In pomegranate, we can define naive Bayes model using arbitrary distributions."
   ]
  },
  {
   "cell_type": "code",
   "execution_count": 94,
   "id": "93f8ded0",
   "metadata": {},
   "outputs": [],
   "source": [
    "X = numpy.random.normal(5, 1, size=(100, 2))\n",
    "X[50:] += 1\n",
    "\n",
    "y = numpy.zeros(100)\n",
    "y[50:] = 1\n",
    "\n",
    "model1 = NaiveBayes.from_samples(NormalDistribution, X, y)\n",
    "model2 = NaiveBayes.from_samples(LogNormalDistribution, X, y)"
   ]
  },
  {
   "cell_type": "markdown",
   "id": "6b9fcd5d",
   "metadata": {},
   "source": [
    "Each feature can be modelled with own distribution."
   ]
  },
  {
   "cell_type": "code",
   "execution_count": 96,
   "id": "8cb8fc97",
   "metadata": {},
   "outputs": [
    {
     "data": {
      "image/png": "[encoded data removed]",
      "text/plain": [
       "<Figure size 1008x288 with 1 Axes>"
      ]
     },
     "metadata": {},
     "output_type": "display_data"
    }
   ],
   "source": [
    "mu = numpy.random.normal(7, 2, size=1000)\n",
    "std = numpy.random.lognormal(-0.8, 0.8, size=1000)\n",
    "dur = numpy.random.exponential(50, size=1000)\n",
    "\n",
    "data = numpy.concatenate([numpy.random.normal(mu_, std_, int(t)) for mu_, std_, t in zip(mu, std, dur)])\n",
    "\n",
    "plt.figure(figsize=(14, 4))\n",
    "plt.title(\"Randomly Generated Signal\", fontsize=16)\n",
    "plt.plot(data)\n",
    "plt.xlabel(\"Time\", fontsize=14)\n",
    "plt.ylabel(\"Signal\", fontsize=14)\n",
    "plt.xlim(0, 3000)\n",
    "plt.show()"
   ]
  },
  {
   "cell_type": "code",
   "execution_count": 97,
   "id": "0bb42f85",
   "metadata": {},
   "outputs": [],
   "source": [
    "# Duration oznacza czas trwania segmentu\n",
    "# Każdy segment ma swoje odchylenie i średnią"
   ]
  },
  {
   "cell_type": "code",
   "execution_count": 99,
   "id": "0843cad5",
   "metadata": {},
   "outputs": [
    {
     "data": {
      "image/png": "[encoded data removed]",
      "text/plain": [
       "<Figure size 864x216 with 3 Axes>"
      ]
     },
     "metadata": {},
     "output_type": "display_data"
    }
   ],
   "source": [
    "plt.figure(figsize=(12, 3))\n",
    "plt.subplot(131)\n",
    "plt.title(\"mu\", fontsize=14)\n",
    "plt.hist(mu, bins=numpy.arange(0, 15))\n",
    "\n",
    "plt.subplot(132)\n",
    "plt.title(\"sigma\", fontsize=14)\n",
    "plt.hist(std, bins=numpy.arange(0.00, 1.75, 0.05))\n",
    "\n",
    "plt.subplot(133)\n",
    "plt.title(\"Duration\", fontsize=14)\n",
    "plt.hist(dur, bins=numpy.arange(0, 150, 10))\n",
    "plt.show()"
   ]
  },
  {
   "cell_type": "code",
   "execution_count": 102,
   "id": "ca3dd1ce",
   "metadata": {},
   "outputs": [],
   "source": [
    "X1 = numpy.array([numpy.random.normal(7, 2, size=400),\n",
    "                  numpy.random.lognormal(-0.8, 0.8, size=400),\n",
    "                  numpy.random.exponential(50, size=400)]).T\n",
    "\n",
    "X2 = numpy.array([numpy.random.normal(8, 2, size=600),\n",
    "                  numpy.random.lognormal(-1.2, 0.6, size=600),\n",
    "                  numpy.random.exponential(100, size=600)]).T\n",
    "\n",
    "X = numpy.concatenate([X1, X2])\n",
    "y = numpy.zeros(1000)\n",
    "y[400:] = 1\n",
    "\n",
    "# NaiveBayes.from_samples([NormalDistribution, LogNormalDistribution, ExponentialDistribution], X, y)"
   ]
  },
  {
   "cell_type": "code",
   "execution_count": 107,
   "id": "5a7b713b",
   "metadata": {},
   "outputs": [
    {
     "data": {
      "text/plain": [
       "[<matplotlib.lines.Line2D at 0x7fedaf7f1e80>]"
      ]
     },
     "execution_count": 107,
     "metadata": {},
     "output_type": "execute_result"
    },
    {
     "data": {
      "image/png": "[encoded data removed]",
      "text/plain": [
       "<Figure size 864x216 with 3 Axes>"
      ]
     },
     "metadata": {},
     "output_type": "display_data"
    }
   ],
   "source": [
    "plt.figure(figsize=(12, 3))\n",
    "plt.subplot(131)\n",
    "plt.plot(X[:, 0])\n",
    "\n",
    "plt.subplot(132)\n",
    "plt.plot(X[:, 1])\n",
    "\n",
    "plt.subplot(133)\n",
    "plt.plot(X[:, 2])"
   ]
  },
  {
   "cell_type": "code",
   "execution_count": 111,
   "id": "08fffed2",
   "metadata": {},
   "outputs": [],
   "source": [
    "df = pd.DataFrame.from_records(X)"
   ]
  },
  {
   "cell_type": "code",
   "execution_count": 113,
   "id": "3072fb73",
   "metadata": {},
   "outputs": [
    {
     "data": {
      "text/plain": [
       "[0, 1, 2]"
      ]
     },
     "execution_count": 113,
     "metadata": {},
     "output_type": "execute_result"
    }
   ],
   "source": [
    "list(df.columns)"
   ]
  },
  {
   "cell_type": "code",
   "execution_count": 114,
   "id": "ddc41c7a",
   "metadata": {},
   "outputs": [
    {
     "data": {
      "text/plain": [
       "<AxesSubplot:>"
      ]
     },
     "execution_count": 114,
     "metadata": {},
     "output_type": "execute_result"
    },
    {
     "data": {
      "image/png": "[encoded data removed]",
      "text/plain": [
       "<Figure size 432x288 with 1 Axes>"
      ]
     },
     "metadata": {},
     "output_type": "display_data"
    }
   ],
   "source": [
    "df[0].hist()"
   ]
  },
  {
   "cell_type": "code",
   "execution_count": 118,
   "id": "30481896",
   "metadata": {},
   "outputs": [
    {
     "data": {
      "text/plain": [
       "<AxesSubplot:>"
      ]
     },
     "execution_count": 118,
     "metadata": {},
     "output_type": "execute_result"
    },
    {
     "data": {
      "image/png": "[encoded data removed]",
      "text/plain": [
       "<Figure size 432x288 with 1 Axes>"
      ]
     },
     "metadata": {},
     "output_type": "display_data"
    }
   ],
   "source": [
    "df[1].hist(bins=50)"
   ]
  },
  {
   "cell_type": "markdown",
   "id": "eb34d311",
   "metadata": {},
   "source": [
    "LogNormal distribution is for non-negative values\n",
    "\n",
    "[Log-normal distribution](https://en.wikipedia.org/wiki/Log-normal_distribution)"
   ]
  },
  {
   "cell_type": "code",
   "execution_count": 119,
   "id": "efde31f7",
   "metadata": {},
   "outputs": [
    {
     "data": {
      "text/plain": [
       "<AxesSubplot:>"
      ]
     },
     "execution_count": 119,
     "metadata": {},
     "output_type": "execute_result"
    },
    {
     "data": {
      "image/png": "[encoded data removed]",
      "text/plain": [
       "<Figure size 432x288 with 1 Axes>"
      ]
     },
     "metadata": {},
     "output_type": "display_data"
    }
   ],
   "source": [
    "df[2].hist(bins=50)"
   ]
  },
  {
   "cell_type": "markdown",
   "id": "33dde7bf",
   "metadata": {},
   "source": [
    "## Stacking models on top of each other"
   ]
  },
  {
   "cell_type": "code",
   "execution_count": 122,
   "id": "108f970c",
   "metadata": {},
   "outputs": [
    {
     "name": "stdout",
     "output_type": "stream",
     "text": [
      "-4047.120202695901\n",
      "-3906.0211241401908\n"
     ]
    }
   ],
   "source": [
    "X = numpy.concatenate([numpy.random.normal((5, 1), 1, size=(200, 2)),\n",
    "                       numpy.random.normal((6, 4), 1, size=(200, 2)),\n",
    "                       numpy.random.normal((3, 5), 1, size=(350, 2)),\n",
    "                       numpy.random.normal((7, 6), 1, size=(250, 2))])\n",
    "\n",
    "y = numpy.zeros(1000)\n",
    "y[400:] = 1\n",
    "\n",
    "model = BayesClassifier.from_samples(MultivariateGaussianDistribution, X, y)\n",
    "print(model.log_probability(X).sum())\n",
    "\n",
    "\n",
    "d1 = GeneralMixtureModel.from_samples(MultivariateGaussianDistribution, 2, X[y == 0])\n",
    "d2 = GeneralMixtureModel.from_samples(MultivariateGaussianDistribution, 2, X[y == 1])\n",
    "model2 = BayesClassifier([d1, d2], [0.4, 0.6])\n",
    "print(model2.log_probability(X).sum())\n",
    "\n"
   ]
  },
  {
   "cell_type": "markdown",
   "id": "eeafc4f9",
   "metadata": {},
   "source": [
    "> In this case we build data that **intentionally has 4 clusters**, of which each class is composed of two of the clusters. A simple normal distribution is unlikely to capture this well, but a mixture model is built specifically to model distributions that are composed of multiple parts. We can see that the correspond log probability is much higher when we incorporate the mixture model in. There is an implementation detail that doesn't allow you yet to pass in a compositional model into the from_samples method quite yet, but in this case it is fairly simple to break up the data such that we build the model ourselves.\n"
   ]
  },
  {
   "cell_type": "code",
   "execution_count": null,
   "id": "4e9ea6ce",
   "metadata": {},
   "outputs": [],
   "source": []
  }
 ],
 "metadata": {
  "kernelspec": {
   "display_name": "Python 3 (ipykernel)",
   "language": "python",
   "name": "python3"
  },
  "language_info": {
   "codemirror_mode": {
    "name": "ipython",
    "version": 3
   },
   "file_extension": ".py",
   "mimetype": "text/x-python",
   "name": "python",
   "nbconvert_exporter": "python",
   "pygments_lexer": "ipython3",
   "version": "3.8.10"
  }
 },
 "nbformat": 4,
 "nbformat_minor": 5
}
