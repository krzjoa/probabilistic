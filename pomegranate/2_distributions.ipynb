{
 "cells": [
  {
   "cell_type": "code",
   "execution_count": 2,
   "id": "72e6efcc",
   "metadata": {},
   "outputs": [],
   "source": [
    "%matplotlib inline\n",
    "import matplotlib.pyplot as plt\n",
    "import seaborn; seaborn.set_style('whitegrid')\n",
    "import numpy as np\n",
    "\n",
    "from pomegranate import *\n",
    "\n",
    "numpy.random.seed(0)\n",
    "numpy.set_printoptions(suppress=True)"
   ]
  },
  {
   "cell_type": "markdown",
   "id": "9243c4ad",
   "metadata": {},
   "source": [
    "## Univariate"
   ]
  },
  {
   "cell_type": "code",
   "execution_count": 3,
   "id": "9206fce5",
   "metadata": {},
   "outputs": [],
   "source": [
    "x = numpy.random.normal(10, 1, size=100)\n",
    "\n",
    "d4 = NormalDistribution.from_samples(x)\n",
    "d5 = ExponentialDistribution.from_samples(x)\n",
    "d6 = LogNormalDistribution.from_samples(x)"
   ]
  },
  {
   "cell_type": "markdown",
   "id": "bc9d88ad",
   "metadata": {},
   "source": [
    "## Multivariate"
   ]
  },
  {
   "cell_type": "code",
   "execution_count": 14,
   "id": "9547994f",
   "metadata": {},
   "outputs": [
    {
     "data": {
      "text/plain": [
       "(array([9.95839176, 9.99788739, 9.95082785]),\n",
       " array([[ 0.91194877,  0.06060277,  0.0608286 ],\n",
       "        [ 0.06060277,  0.98252142, -0.01882238],\n",
       "        [ 0.0608286 , -0.01882238,  1.0548181 ]]))"
      ]
     },
     "execution_count": 14,
     "metadata": {},
     "output_type": "execute_result"
    }
   ],
   "source": [
    "x = numpy.random.normal(10, 1, size=(1000, 3))\n",
    "\n",
    "# Joint probability distribution\n",
    "d7 = MultivariateGaussianDistribution.from_samples(x)\n",
    "d7.mu, d7.cov"
   ]
  },
  {
   "cell_type": "markdown",
   "id": "f0987342",
   "metadata": {},
   "source": [
    "If conmponents are independent:"
   ]
  },
  {
   "cell_type": "code",
   "execution_count": 15,
   "id": "b335c024",
   "metadata": {},
   "outputs": [
    {
     "data": {
      "text/plain": [
       "{\n",
       "    \"class\" : \"Distribution\",\n",
       "    \"name\" : \"IndependentComponentsDistribution\",\n",
       "    \"parameters\" : [\n",
       "        [\n",
       "            {\n",
       "                \"class\" : \"Distribution\",\n",
       "                \"name\" : \"NormalDistribution\",\n",
       "                \"parameters\" : [\n",
       "                    10.05980801553448,\n",
       "                    1.0078822447166023\n",
       "                ],\n",
       "                \"frozen\" : false\n",
       "            },\n",
       "            {\n",
       "                \"class\" : \"Distribution\",\n",
       "                \"name\" : \"ExponentialDistribution\",\n",
       "                \"parameters\" : [\n",
       "                    0.09940547566677038\n",
       "                ],\n",
       "                \"frozen\" : false\n",
       "            },\n",
       "            {\n",
       "                \"class\" : \"Distribution\",\n",
       "                \"name\" : \"LogNormalDistribution\",\n",
       "                \"parameters\" : [\n",
       "                    2.303462554064328,\n",
       "                    0.1012880395101563\n",
       "                ],\n",
       "                \"frozen\" : false\n",
       "            }\n",
       "        ],\n",
       "        [\n",
       "            1.0,\n",
       "            1.0,\n",
       "            1.0\n",
       "        ]\n",
       "    ],\n",
       "    \"frozen\" : false\n",
       "}"
      ]
     },
     "execution_count": 15,
     "metadata": {},
     "output_type": "execute_result"
    }
   ],
   "source": [
    "d8 = IndependentComponentsDistribution([d4, d5, d6])\n",
    "d8"
   ]
  },
  {
   "cell_type": "markdown",
   "id": "2c1f4b14",
   "metadata": {},
   "source": [
    "If we wanted to learn a multivariate Gaussian distribution but with a forced diagonal covariance matrix we can model each feature are independent normal distributions, like such."
   ]
  },
  {
   "cell_type": "code",
   "execution_count": 16,
   "id": "a75b2d42",
   "metadata": {},
   "outputs": [
    {
     "data": {
      "text/plain": [
       "{\n",
       "    \"class\" : \"Distribution\",\n",
       "    \"name\" : \"IndependentComponentsDistribution\",\n",
       "    \"parameters\" : [\n",
       "        [\n",
       "            {\n",
       "                \"class\" : \"Distribution\",\n",
       "                \"name\" : \"NormalDistribution\",\n",
       "                \"parameters\" : [\n",
       "                    9.95839176357832,\n",
       "                    0.954960088815912\n",
       "                ],\n",
       "                \"frozen\" : false\n",
       "            },\n",
       "            {\n",
       "                \"class\" : \"Distribution\",\n",
       "                \"name\" : \"NormalDistribution\",\n",
       "                \"parameters\" : [\n",
       "                    9.997887391813991,\n",
       "                    0.9912221841076071\n",
       "                ],\n",
       "                \"frozen\" : false\n",
       "            },\n",
       "            {\n",
       "                \"class\" : \"Distribution\",\n",
       "                \"name\" : \"NormalDistribution\",\n",
       "                \"parameters\" : [\n",
       "                    9.95082784885623,\n",
       "                    1.0270433769267284\n",
       "                ],\n",
       "                \"frozen\" : false\n",
       "            }\n",
       "        ],\n",
       "        [\n",
       "            1.0,\n",
       "            1.0,\n",
       "            1.0\n",
       "        ]\n",
       "    ],\n",
       "    \"frozen\" : false\n",
       "}"
      ]
     },
     "execution_count": 16,
     "metadata": {},
     "output_type": "execute_result"
    }
   ],
   "source": [
    "d8.from_samples(x, distributions=NormalDistribution)"
   ]
  },
  {
   "cell_type": "markdown",
   "id": "70ae9132",
   "metadata": {},
   "source": [
    "## Plotting"
   ]
  },
  {
   "cell_type": "code",
   "execution_count": 19,
   "id": "c97f3ad3",
   "metadata": {},
   "outputs": [
    {
     "data": {
      "image/png": "[encoded data removed]",
      "text/plain": [
       "<Figure size 432x288 with 3 Axes>"
      ]
     },
     "metadata": {},
     "output_type": "display_data"
    }
   ],
   "source": [
    "# plt.figure(figsize=(12, 4))\n",
    "# plt.subplot(231)\n",
    "# plt.title(\"Normal Distribution\", fontsize=14)\n",
    "# d.plot(1000, edgecolor='c', color='c', bins=20)\n",
    "\n",
    "# plt.subplot(232)\n",
    "# plt.title(\"Exponential Distribution\", fontsize=14)\n",
    "# d2.plot(1000, edgecolor='m', color='m', bins=20)\n",
    "\n",
    "# plt.subplot(233)\n",
    "# plt.title(\"Log Normal Distribution\", fontsize=14)\n",
    "# d3.plot(1000, edgecolor='g', color='g', bins=20)\n",
    "\n",
    "plt.subplot(234)\n",
    "plt.title(\"Fit Normal Distribution\", fontsize=14)\n",
    "d4.plot(1000, edgecolor='c', color='c', bins=20)\n",
    "\n",
    "plt.subplot(235)\n",
    "plt.title(\"Fit Exponential Distribution\", fontsize=14)\n",
    "d5.plot(1000, edgecolor='m', color='m', bins=20)\n",
    "\n",
    "plt.subplot(236)\n",
    "plt.title(\"Fit Log Normal Distribution\", fontsize=14)\n",
    "d6.plot(1000, edgecolor='g', color='g', bins=20)\n",
    "\n",
    "plt.tight_layout()\n",
    "plt.show()"
   ]
  },
  {
   "cell_type": "code",
   "execution_count": 21,
   "id": "d2a36e0e",
   "metadata": {},
   "outputs": [
    {
     "data": {
      "image/png": "[encoded data removed]",
      "text/plain": [
       "<Figure size 432x288 with 3 Axes>"
      ]
     },
     "metadata": {},
     "output_type": "display_data"
    }
   ],
   "source": [
    "x1 = numpy.arange(-1, 11.1, 0.1)\n",
    "x2 = numpy.arange(0, 2, 0.1)\n",
    "x3 = numpy.arange(0, 50, 0.1)\n",
    "\n",
    "# plt.figure(figsize=(14, 3))\n",
    "# plt.subplot(231)\n",
    "# plt.title(\"Normal Distribution\", fontsize=14)\n",
    "# plt.fill_between(x1, 0, d.probability(x1), color='c')\n",
    "\n",
    "# plt.subplot(232)\n",
    "# plt.title(\"Exponential Distribution\", fontsize=14)\n",
    "# plt.fill_between(x2, 0, d2.probability(x2), color='m')\n",
    "\n",
    "# plt.subplot(233)\n",
    "# plt.title(\"Log Normal Distribution\", fontsize=14)\n",
    "# plt.fill_between(x3, 0, d3.probability(x3), color='g')\n",
    "\n",
    "plt.subplot(234)\n",
    "plt.title(\"Fit Normal Distribution\", fontsize=14)\n",
    "plt.fill_between(x3, 0, d4.probability(x3), color='c')\n",
    "\n",
    "plt.subplot(235)\n",
    "plt.title(\"Fit Exponential Distribution\", fontsize=14)\n",
    "plt.fill_between(x3, 0, d5.probability(x3), color='m')\n",
    "\n",
    "plt.subplot(236)\n",
    "plt.title(\"Fit Log Normal Distribution\", fontsize=14)\n",
    "plt.fill_between(x3, 0, d6.probability(x3), color='g')\n",
    "\n",
    "plt.tight_layout()\n",
    "plt.show()"
   ]
  },
  {
   "cell_type": "markdown",
   "id": "cfac94d1",
   "metadata": {},
   "source": [
    "## Fitting "
   ]
  },
  {
   "cell_type": "markdown",
   "id": "871e0869",
   "metadata": {},
   "source": [
    "This method uses maximum likelihood estimates to derive new parameters and is not affected by the current values of the distribution unless an inertia is set, which defines the proportion of the original distribution to use, the default being 0."
   ]
  },
  {
   "cell_type": "code",
   "execution_count": 23,
   "id": "efd52512",
   "metadata": {},
   "outputs": [
    {
     "data": {
      "text/plain": [
       "{\n",
       "    \"class\" : \"Distribution\",\n",
       "    \"name\" : \"NormalDistribution\",\n",
       "    \"parameters\" : [\n",
       "        5.959521221107845,\n",
       "        2.0190653027880714\n",
       "    ],\n",
       "    \"frozen\" : false\n",
       "}"
      ]
     },
     "execution_count": 23,
     "metadata": {},
     "output_type": "execute_result"
    }
   ],
   "source": [
    "X = numpy.random.normal(6, 2, size=1000,)\n",
    "\n",
    "d = NormalDistribution(100, 1)\n",
    "d.fit(X)\n",
    "d"
   ]
  },
  {
   "cell_type": "code",
   "execution_count": 24,
   "id": "373223d1",
   "metadata": {},
   "outputs": [
    {
     "data": {
      "text/plain": [
       "{\n",
       "    \"class\" : \"Distribution\",\n",
       "    \"name\" : \"NormalDistribution\",\n",
       "    \"parameters\" : [\n",
       "        52.979760610553924,\n",
       "        1.5095326513940357\n",
       "    ],\n",
       "    \"frozen\" : false\n",
       "}"
      ]
     },
     "execution_count": 24,
     "metadata": {},
     "output_type": "execute_result"
    }
   ],
   "source": [
    "d = NormalDistribution(100, 1)\n",
    "d.fit(X, inertia=0.5)\n",
    "d"
   ]
  },
  {
   "cell_type": "markdown",
   "id": "18870d5a",
   "metadata": {},
   "source": [
    "### Weighted"
   ]
  },
  {
   "cell_type": "code",
   "execution_count": 26,
   "id": "a73aef67",
   "metadata": {},
   "outputs": [
    {
     "data": {
      "text/plain": [
       "{\n",
       "    \"class\" : \"Distribution\",\n",
       "    \"name\" : \"NormalDistribution\",\n",
       "    \"parameters\" : [\n",
       "        8.257675608991768,\n",
       "        2.304585380876173\n",
       "    ],\n",
       "    \"frozen\" : false\n",
       "}"
      ]
     },
     "execution_count": 26,
     "metadata": {},
     "output_type": "execute_result"
    }
   ],
   "source": [
    "X = numpy.random.normal(5, 2, size=100,)\n",
    "X[50:] += 4\n",
    "\n",
    "w = numpy.ones(100)\n",
    "w[:50] = 0.25\n",
    "\n",
    "d = NormalDistribution(10, 1)\n",
    "d.fit(X, w)\n",
    "d"
   ]
  },
  {
   "cell_type": "markdown",
   "id": "419806ef",
   "metadata": {},
   "source": [
    "## Discrete distributions"
   ]
  },
  {
   "cell_type": "code",
   "execution_count": 30,
   "id": "f8ada577",
   "metadata": {},
   "outputs": [
    {
     "name": "stdout",
     "output_type": "stream",
     "text": [
      "0.1\n",
      "1.5\n",
      "0.0\n"
     ]
    }
   ],
   "source": [
    "d = DiscreteDistribution({'A': 0.1, 'C': 0.25, 'G': 0.50, 'T': 0.15})\n",
    "print(d.probability( 'A'))\n",
    "print(d.probability( 'G'))\n",
    "print(d.probability('????'))"
   ]
  },
  {
   "cell_type": "code",
   "execution_count": 32,
   "id": "79da519d",
   "metadata": {},
   "outputs": [
    {
     "name": "stdout",
     "output_type": "stream",
     "text": [
      "{'A': 0.4375, 'C': 0.15625, 'G': 0.20833333333333334, 'T': 0.19791666666666666}\n",
      "[0.4375     0.15625    0.20833333 0.19791667]\n"
     ]
    }
   ],
   "source": [
    "X = list('ACGATACACTGAATGACAGCAGTCACTGACAGTAGTACGAGTAGTAGCAGAGAGTAATAAAGAATTAATATATGACACTACGAAAAAAATGCATCG')\n",
    "\n",
    "d.fit(X)\n",
    "\n",
    "print(d.parameters[0])\n",
    "print(1. * numpy.unique(X, return_counts=True)[1] / len(X))"
   ]
  },
  {
   "cell_type": "markdown",
   "id": "9e327399",
   "metadata": {},
   "source": [
    "## The Kernel Density"
   ]
  },
  {
   "cell_type": "markdown",
   "id": "be7875ff",
   "metadata": {},
   "source": [
    "The Gaussian Kernel Density is a non-parametric distribution that, instead of parameters, stores the data points that it was trained on directly. When initializing a kernel density you simply pass in the points. These points are converted to a probability distribution by essentially dropping some probability distribution on top of each point and then dividing the density by the number of points, ensuring that the area still integrates to 1. We can see this in action with the Gaussian kernel density which drops a normal distribution on each point with standard deviation equal to the bandwidth."
   ]
  },
  {
   "cell_type": "code",
   "execution_count": 33,
   "id": "1f78cba3",
   "metadata": {},
   "outputs": [
    {
     "data": {
      "image/png": "[encoded data removed]",
      "text/plain": [
       "<Figure size 432x288 with 1 Axes>"
      ]
     },
     "metadata": {},
     "output_type": "display_data"
    }
   ],
   "source": [
    "d = GaussianKernelDensity( [0.5, 1.2, 4.2, 1.9, 5.4, 3.4], bandwidth=1 )\n",
    "d.plot(n=100000, edgecolor='c', color='c', bins=50)\n",
    "plt.show()"
   ]
  },
  {
   "cell_type": "code",
   "execution_count": 43,
   "id": "21bfae03",
   "metadata": {},
   "outputs": [
    {
     "data": {
      "image/png": "[encoded data removed]",
      "text/plain": [
       "<Figure size 432x288 with 1 Axes>"
      ]
     },
     "metadata": {},
     "output_type": "display_data"
    }
   ],
   "source": [
    "d = GaussianKernelDensity( [0.5, 1.2, 4.2, 1.9, 5.4, 3.4], bandwidth=0.2 )\n",
    "d.plot(n=100000, edgecolor='c', color='c', bins=100)"
   ]
  },
  {
   "cell_type": "markdown",
   "id": "4ad9643e",
   "metadata": {},
   "source": [
    "## Out-of-core learning\n",
    "\n",
    ".from_summaries"
   ]
  },
  {
   "cell_type": "code",
   "execution_count": null,
   "id": "9393bbb0",
   "metadata": {},
   "outputs": [],
   "source": []
  }
 ],
 "metadata": {
  "kernelspec": {
   "display_name": "Python 3 (ipykernel)",
   "language": "python",
   "name": "python3"
  },
  "language_info": {
   "codemirror_mode": {
    "name": "ipython",
    "version": 3
   },
   "file_extension": ".py",
   "mimetype": "text/x-python",
   "name": "python",
   "nbconvert_exporter": "python",
   "pygments_lexer": "ipython3",
   "version": "3.9.13"
  }
 },
 "nbformat": 4,
 "nbformat_minor": 5
}
